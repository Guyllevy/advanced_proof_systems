{
 "cells": [
  {
   "cell_type": "markdown",
   "metadata": {},
   "source": [
    "HW3\n",
    "=============\n",
    "Guy Levy 206865362"
   ]
  },
  {
   "cell_type": "markdown",
   "metadata": {},
   "source": [
    "1  MIP vs PCP.\n",
    "==========\n",
    "\n",
    "1.1  From MIP to PCP.\n",
    "---------\n",
    "Will show: $L$ has 2 message MIP $(l_v, l_p) \\Rightarrow$ $L$ has a $(k \\cdot l_p)$-query PCP of length $k \\cdot 2^{l_v} \\cdot l_p$\\\n",
    "\\\n",
    "Let $((P_i)_{i=1}^k, V)$ be a 2 message MIP protocol for $L$.\\\n",
    "\\\n",
    "The PCP proof text:\\\n",
    "The truth tables for all functions that are defined by the MIP interaction in the following way:\\\n",
    "$\\forall i \\in [k] \\;\\;\\;$ $f_i({m_v}_i) = {m_p}_i$ such that ${m_v}_i$ is $V$'s query to $P_i$ and ${m_p}_i$ is $P_i$'s answer.\\\n",
    "Since different $P_i$'s cannot interact with each other, and since we can assume WLOG that $P_i$'s are deterministic,\\\n",
    "each message from $V$ to $P_i$ defines his answer ans do the $f_i$'s are well defined.\\\n",
    "The proof's length is $k \\cdot 2^{l_v} \\cdot l_p$ (the size of $k$ truth tables for functions $f_i:\\{m : |m| = l_v\\} \\rightarrow \\{a : |a| = l_p\\}$)\\\n",
    "\\\n",
    "The PCP verifier:\\\n",
    "$V'$"
   ]
  },
  {
   "cell_type": "markdown",
   "metadata": {},
   "source": []
  },
  {
   "cell_type": "markdown",
   "metadata": {},
   "source": []
  },
  {
   "cell_type": "markdown",
   "metadata": {},
   "source": []
  }
 ],
 "metadata": {
  "language_info": {
   "name": "python"
  }
 },
 "nbformat": 4,
 "nbformat_minor": 2
}
